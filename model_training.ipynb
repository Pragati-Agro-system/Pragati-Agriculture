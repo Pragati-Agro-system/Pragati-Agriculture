{
 "cells": [
  {
   "cell_type": "code",
   "execution_count": 45,
   "metadata": {},
   "outputs": [],
   "source": [
    "import pandas as pd\n",
    "import numpy as np"
   ]
  },
  {
   "cell_type": "code",
   "execution_count": 46,
   "metadata": {},
   "outputs": [],
   "source": [
    "data = pd.read_csv(\"processed_data.csv\")"
   ]
  },
  {
   "cell_type": "code",
   "execution_count": 47,
   "metadata": {},
   "outputs": [
    {
     "data": {
      "text/plain": [
       "Index(['Onion', 'Tomato', 'Wheat', 'Potato', 'Brinjal', 'Green+Chilli',\n",
       "       'Apple', 'Cauliflower', 'Bottle+gourd', 'Mustard'],\n",
       "      dtype='object')"
      ]
     },
     "execution_count": 47,
     "metadata": {},
     "output_type": "execute_result"
    }
   ],
   "source": [
    "commodity_count = data['commodity'].value_counts().nlargest(10)\n",
    "commodity_count.index"
   ]
  },
  {
   "cell_type": "code",
   "execution_count": 48,
   "metadata": {},
   "outputs": [],
   "source": [
    "import pickle\n",
    "from sklearn.model_selection import train_test_split\n",
    "from sklearn.ensemble import RandomForestRegressor\n",
    "from sklearn.metrics import mean_squared_error"
   ]
  },
  {
   "cell_type": "code",
   "execution_count": 49,
   "metadata": {},
   "outputs": [],
   "source": [
    "train={}\n",
    "test={}"
   ]
  },
  {
   "cell_type": "code",
   "execution_count": 57,
   "metadata": {},
   "outputs": [],
   "source": [
    "for commodity in commodity_count.index:\n",
    "    \n",
    "    myfile = pd.read_csv(r'A:\\CODING\\Python\\Machine Learning\\HackathonAdityaFarmer\\my code\\{}.csv.csv'.format(commodity))\n",
    "    X = myfile.drop(['modal_price','date','commodity'],axis=1)\n",
    "    y = myfile['modal_price']\n",
    "    x_train, x_test, y_train, y_test = train_test_split(X, y, random_state=1)\n",
    "    model = RandomForestRegressor(random_state=1)\n",
    "    model.fit(x_train,y_train)\n",
    "    preds = model.predict(x_test)\n",
    "\n",
    "    # model_rmse = np.sqrt(mean_squared_error(preds, y_test))\n",
    "    # print(f\"Root Mean Square Error is {model_rmse:.1f}\")\n",
    "    # print(f\"Score on train is {model.score(x_train, y_train)}\")\n",
    "    # print(f\"Score on test is {model.score(x_test, y_test)}\")\n",
    "\n",
    "    train[commodity]=model.score(x_train, y_train)\n",
    "    test[commodity]=model.score(x_test, y_test)\n",
    "    \n",
    "    filename = f'{commodity}.pkl'\n",
    "    with open(filename, 'wb') as file:\n",
    "        pickle.dump(model, file)"
   ]
  },
  {
   "cell_type": "code",
   "execution_count": 58,
   "metadata": {},
   "outputs": [
    {
     "name": "stdout",
     "output_type": "stream",
     "text": [
      "{'Onion': 0.9970320040229382, 'Tomato': 0.9971564872588485, 'Wheat': 0.9897095491887966, 'Potato': 0.9966114425201225, 'Brinjal': 0.9955217049861521, 'Green+Chilli': 0.9982100520863751, 'Apple': 0.997437515822759, 'Cauliflower': 0.9977024027782712, 'Bottle+gourd': 0.9951690901207814, 'Mustard': 0.9991270325460596}\n",
      "{'Onion': 0.9844465982809, 'Tomato': 0.9892519704874453, 'Wheat': 0.9303133212754064, 'Potato': 0.9848986852924851, 'Brinjal': 0.9845733210270626, 'Green+Chilli': 0.9865457610528914, 'Apple': 0.9885657848152177, 'Cauliflower': 0.9871042157649556, 'Bottle+gourd': 0.9830822990351893, 'Mustard': 0.9958905922115783}\n"
     ]
    }
   ],
   "source": [
    "print(train)\n",
    "print(test)"
   ]
  },
  {
   "cell_type": "code",
   "execution_count": 61,
   "metadata": {},
   "outputs": [
    {
     "data": {
      "text/html": [
       "<div>\n",
       "<style scoped>\n",
       "    .dataframe tbody tr th:only-of-type {\n",
       "        vertical-align: middle;\n",
       "    }\n",
       "\n",
       "    .dataframe tbody tr th {\n",
       "        vertical-align: top;\n",
       "    }\n",
       "\n",
       "    .dataframe thead th {\n",
       "        text-align: right;\n",
       "    }\n",
       "</style>\n",
       "<table border=\"1\" class=\"dataframe\">\n",
       "  <thead>\n",
       "    <tr style=\"text-align: right;\">\n",
       "      <th></th>\n",
       "      <th>Commodity</th>\n",
       "      <th>Accuracy</th>\n",
       "    </tr>\n",
       "  </thead>\n",
       "  <tbody>\n",
       "    <tr>\n",
       "      <th>0</th>\n",
       "      <td>Onion</td>\n",
       "      <td>0.984447</td>\n",
       "    </tr>\n",
       "    <tr>\n",
       "      <th>1</th>\n",
       "      <td>Tomato</td>\n",
       "      <td>0.989252</td>\n",
       "    </tr>\n",
       "    <tr>\n",
       "      <th>2</th>\n",
       "      <td>Wheat</td>\n",
       "      <td>0.930313</td>\n",
       "    </tr>\n",
       "    <tr>\n",
       "      <th>3</th>\n",
       "      <td>Potato</td>\n",
       "      <td>0.984899</td>\n",
       "    </tr>\n",
       "    <tr>\n",
       "      <th>4</th>\n",
       "      <td>Brinjal</td>\n",
       "      <td>0.984573</td>\n",
       "    </tr>\n",
       "    <tr>\n",
       "      <th>5</th>\n",
       "      <td>Green+Chilli</td>\n",
       "      <td>0.986546</td>\n",
       "    </tr>\n",
       "    <tr>\n",
       "      <th>6</th>\n",
       "      <td>Apple</td>\n",
       "      <td>0.988566</td>\n",
       "    </tr>\n",
       "    <tr>\n",
       "      <th>7</th>\n",
       "      <td>Cauliflower</td>\n",
       "      <td>0.987104</td>\n",
       "    </tr>\n",
       "    <tr>\n",
       "      <th>8</th>\n",
       "      <td>Bottle+gourd</td>\n",
       "      <td>0.983082</td>\n",
       "    </tr>\n",
       "    <tr>\n",
       "      <th>9</th>\n",
       "      <td>Mustard</td>\n",
       "      <td>0.995891</td>\n",
       "    </tr>\n",
       "  </tbody>\n",
       "</table>\n",
       "</div>"
      ],
      "text/plain": [
       "      Commodity  Accuracy\n",
       "0         Onion  0.984447\n",
       "1        Tomato  0.989252\n",
       "2         Wheat  0.930313\n",
       "3        Potato  0.984899\n",
       "4       Brinjal  0.984573\n",
       "5  Green+Chilli  0.986546\n",
       "6         Apple  0.988566\n",
       "7   Cauliflower  0.987104\n",
       "8  Bottle+gourd  0.983082\n",
       "9       Mustard  0.995891"
      ]
     },
     "execution_count": 61,
     "metadata": {},
     "output_type": "execute_result"
    }
   ],
   "source": [
    "type(test)\n",
    "pd.DataFrame(list(test.items()), columns=['Commodity', 'Accuracy'])"
   ]
  },
  {
   "cell_type": "code",
   "execution_count": 31,
   "metadata": {},
   "outputs": [
    {
     "name": "stdout",
     "output_type": "stream",
     "text": [
      "Root Mean Square Error is 2.0\n",
      "Score on train is 0.9970320040229382\n",
      "Score on test is 0.9844465982809\n"
     ]
    }
   ],
   "source": []
  },
  {
   "cell_type": "code",
   "execution_count": 34,
   "metadata": {},
   "outputs": [],
   "source": []
  },
  {
   "cell_type": "code",
   "execution_count": 32,
   "metadata": {},
   "outputs": [],
   "source": []
  },
  {
   "cell_type": "code",
   "execution_count": 26,
   "metadata": {},
   "outputs": [],
   "source": []
  },
  {
   "cell_type": "code",
   "execution_count": null,
   "metadata": {},
   "outputs": [],
   "source": []
  }
 ],
 "metadata": {
  "kernelspec": {
   "display_name": "Python 3",
   "language": "python",
   "name": "python3"
  },
  "language_info": {
   "codemirror_mode": {
    "name": "ipython",
    "version": 3
   },
   "file_extension": ".py",
   "mimetype": "text/x-python",
   "name": "python",
   "nbconvert_exporter": "python",
   "pygments_lexer": "ipython3",
   "version": "3.10.3"
  },
  "orig_nbformat": 4
 },
 "nbformat": 4,
 "nbformat_minor": 2
}
